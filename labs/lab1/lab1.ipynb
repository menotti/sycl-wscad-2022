{
 "cells": [
  {
   "cell_type": "markdown",
   "id": "656aa7f3-df4a-4d41-b696-89bb8bf9b3a3",
   "metadata": {},
   "source": [
    "# Filtro Sobel"
   ]
  },
  {
   "cell_type": "code",
   "execution_count": 12,
   "id": "ad2d72ea",
   "metadata": {},
   "outputs": [
    {
     "name": "stdout",
     "output_type": "stream",
     "text": [
      "Overwriting lab/sobel_dp.cpp\n"
     ]
    }
   ],
   "source": [
    "%%writefile lab/sobel_dp.cpp\n",
    "#include <cstdio>\n",
    "#include <string>\n",
    "#include <fstream>\n",
    "#include <iostream>\n",
    "#include <chrono>\n",
    "#include <math.h>\n",
    "#include <CL/sycl.hpp>\n",
    "\n",
    "#define inter 1000\n",
    "\n",
    "using namespace std;\n",
    "using namespace std::chrono;\n",
    "\n",
    "int main(int argc, char* argv[]) {\n",
    "    sycl::default_selector selector;\n",
    "    int dimx, dimy, depth, size;\n",
    "    string line; \n",
    "\n",
    "    if (argc < 3) {\n",
    "        cout << \"Usage: \" << argv[0] << \" infile.pnm outfile.pgm\" << endl;\n",
    "        return EXIT_FAILURE; \n",
    "    }\n",
    "\n",
    "    ifstream ifs(argv[1], ios_base::in | ios_base::binary);\n",
    "\n",
    "    ifs >> line;\n",
    "    if (line != \"P6\") {\n",
    "        cout << argv[1] << \" is not a valid P6 file!\" << endl;\n",
    "        return EXIT_FAILURE;\n",
    "    }\n",
    "    ifs >> dimx >> dimy >> depth;\n",
    "    ifs.ignore();\n",
    "\n",
    "    ofstream ofs(argv[2], ios_base::out | ios_base::binary);\n",
    "    ofs << \"P5\" << endl << dimx << ' ' << dimy << endl << \"255\" << endl;\n",
    "\n",
    "    size = dimx*dimy;\n",
    "    char *rgb = new char[size*3];\n",
    "    char *gray = new char[size];\n",
    "    char *sobel = new char[size];\n",
    "\n",
    "    auto len = ifs.read(rgb, size*3).gcount();\n",
    "    if (len != size*3) {\n",
    "        cout << \"Error reading file!\" << endl;\n",
    "        return EXIT_FAILURE;\n",
    "    }\n",
    "    ifs.close();\n",
    "\n",
    "    try {\n",
    "        sycl::queue q(selector);\n",
    "        std::cout << \"Running on device: \" << q.get_device().get_info<sycl::info::device::name>() << \"\\n\";\n",
    "\n",
    "        sycl::buffer<char> rgb_buf(rgb, size*3);\n",
    "        sycl::buffer<char> gray_buf(gray, size);\n",
    "        sycl::range<1> rsize{static_cast<size_t>(size)};\n",
    "        auto start = high_resolution_clock::now();\n",
    "        for (auto it = 0u; it < inter; it++) {\n",
    "            q.submit([&](sycl::handler &h) {\n",
    "                sycl::accessor rgb_acc(rgb_buf, h, sycl::read_only);\n",
    "                sycl::accessor gray_acc(gray_buf, h, sycl::write_only, sycl::no_init);\n",
    "                h.parallel_for(rsize, [=](auto i) {\n",
    "                    unsigned char r, g, b;\n",
    "                    r = (char)rgb_acc[i*3];\n",
    "                    g = (char)rgb_acc[i*3+1];\n",
    "                    b = (char)rgb_acc[i*3+2];\n",
    "                    int gs = (r+(g<<1)+b)>>2;\n",
    "                    gray_acc[i] = (char)gs;\n",
    "                });\n",
    "            }).wait();\n",
    "\n",
    "            sycl::buffer<char> sobel_buf(sobel, size);\n",
    "            auto global_range = sycl::range<2>(dimx, dimy);\n",
    "            q.submit([&](sycl::handler &h) {\n",
    "                sycl::accessor gray_acc(gray_buf, h, sycl::read_only);\n",
    "                sycl::accessor sobel_acc(sobel_buf, h, sycl::write_only, sycl::no_init);\n",
    "                h.parallel_for(global_range, [=](auto it) {\n",
    "                    auto x = it[0]; \n",
    "                    auto y = it[1];\n",
    "                    int pixel_x;\n",
    "                    int pixel_y;\n",
    "\n",
    "                    int sobel_x[3][3] =\n",
    "                    {{ -1, 0, 1 },\n",
    "                     { -2, 0, 2 },\n",
    "                     { -1, 0, 1 }};\n",
    "\n",
    "                    int sobel_y[3][3] =\n",
    "                    {{ -1, -2, -1 },\n",
    "                     {  0,  0,  0 },\n",
    "                     {  1,  2,  1 }};\n",
    "\n",
    "                    if (x > 0 && x < dimx && y > 0 && y < dimy) {\n",
    "                    pixel_x = (sobel_x[0][0] * gray_acc[dimx * (y-1) + (x-1)])\n",
    "                            + (sobel_x[0][1] * gray_acc[dimx * (y-1) +  x   ])\n",
    "                            + (sobel_x[0][2] * gray_acc[dimx * (y-1) + (x+1)])\n",
    "                            + (sobel_x[1][0] * gray_acc[dimx *  y    + (x-1)])\n",
    "                            + (sobel_x[1][1] * gray_acc[dimx *  y    +  x   ])\n",
    "                            + (sobel_x[1][2] * gray_acc[dimx *  y    + (x+1)])\n",
    "                            + (sobel_x[2][0] * gray_acc[dimx * (y+1) + (x-1)])\n",
    "                            + (sobel_x[2][1] * gray_acc[dimx * (y+1) +  x   ])\n",
    "                            + (sobel_x[2][2] * gray_acc[dimx * (y+1) + (x+1)]);\n",
    "                    pixel_y = (sobel_y[0][0] * gray_acc[dimx * (y-1) + (x-1)])\n",
    "                            + (sobel_y[0][1] * gray_acc[dimx * (y-1) +  x   ])\n",
    "                            + (sobel_y[0][2] * gray_acc[dimx * (y-1) + (x+1)])\n",
    "                            + (sobel_y[1][0] * gray_acc[dimx *  y    + (x-1)])\n",
    "                            + (sobel_y[1][1] * gray_acc[dimx *  y    +  x   ])\n",
    "                            + (sobel_y[1][2] * gray_acc[dimx *  y    + (x+1)])\n",
    "                            + (sobel_y[2][0] * gray_acc[dimx * (y+1) + (x-1)])\n",
    "                            + (sobel_y[2][1] * gray_acc[dimx * (y+1) +  x   ])\n",
    "                            + (sobel_y[2][2] * gray_acc[dimx * (y+1) + (x+1)]);\n",
    "                    int val = (int)hypot(pixel_x, pixel_y);\n",
    "                    if(val < 0) val = 0;\n",
    "                    if(val > 255) val = 255;\n",
    "                    sobel_acc[dimx * y + x] = (unsigned char)val;\n",
    "                    }\n",
    "                });\n",
    "            }).wait();\n",
    "        }\n",
    "        auto stop = high_resolution_clock::now();\n",
    "        auto duration = duration_cast<milliseconds>(stop - start);\n",
    "        cout << argv[1] << \" with \" << dimx << \"x\" << dimy << \" in \" << duration.count() << \" ms\" << endl;\n",
    "        ofs.write(sobel, size);\n",
    "        ofs.close();\n",
    "    } catch (exception const &e) {\n",
    "        cout << \"An exception is caught!\" << endl << e.what() << endl;\n",
    "        return EXIT_FAILURE;\n",
    "    }\n",
    "    return EXIT_SUCCESS;\n",
    "}"
   ]
  },
  {
   "cell_type": "code",
   "execution_count": 13,
   "id": "06ffe062",
   "metadata": {},
   "outputs": [
    {
     "name": "stdout",
     "output_type": "stream",
     "text": [
      "Running on device: Intel(R) Xeon(R) Gold 6128 CPU @ 3.40GHz\n",
      "basilica.pnm with 3456x2592 in 22326 ms\n",
      "Running on device: Intel(R) Xeon(R) Gold 6128 CPU @ 3.40GHz\n",
      "libelula.pnm with 1600x1200 in 4239 ms\n",
      "Running on device: Intel(R) Xeon(R) Gold 6128 CPU @ 3.40GHz\n",
      "lua.pnm with 1000x750 in 2302 ms\n",
      "Running on device: Intel(R) Xeon(R) Gold 6128 CPU @ 3.40GHz\n",
      "rgb.pnm with 3x3 in 246 ms\n"
     ]
    }
   ],
   "source": [
    "!dpcpp -o bin/sobel_dp lab/sobel_dp.cpp && for f in `ls *.pnm`; do bin/sobel_dp $f dp/${f%.*}.pgm; done"
   ]
  },
  {
   "cell_type": "code",
   "execution_count": 15,
   "id": "cd5725da-0316-4ec1-9315-f39cfd81b3ac",
   "metadata": {},
   "outputs": [
    {
     "name": "stdout",
     "output_type": "stream",
     "text": [
      "Job has been submitted to Intel(R) DevCloud and will execute soon.\n",
      "\n",
      "Job ID                    Name             User            Time Use S Queue\n",
      "------------------------- ---------------- --------------- -------- - -----\n",
      "2010713.v-qsvr-1           ...ub-singleuser u122046         00:06:38 R jupyterhub     \n",
      "2010734.v-qsvr-1           STDIN            u122046         00:00:08 R batch          \n",
      "2010748.v-qsvr-1           build_run_dp.sh  u122046                0 Q batch          \n",
      "\n",
      "Waiting for Output ████████████████████████████████████████████████████████████ Done⬇\n",
      "\n",
      "########################################################################\n",
      "#      Date:           Tue 18 Oct 2022 05:44:44 AM PDT\n",
      "#    Job ID:           2010748.v-qsvr-1.aidevcloud\n",
      "#      User:           u122046\n",
      "# Resources:           neednodes=1:gen9:ppn=2,nodes=1:gen9:ppn=2,walltime=06:00:00\n",
      "########################################################################\n",
      "\n",
      "Running on device: Intel(R) UHD Graphics P630 [0x3e96]\n",
      "basilica.pnm with 3456x2592 in 27833 ms\n",
      "Running on device: Intel(R) UHD Graphics P630 [0x3e96]\n",
      "libelula.pnm with 1600x1200 in 6959 ms\n",
      "Running on device: Intel(R) UHD Graphics P630 [0x3e96]\n",
      "lua.pnm with 1000x750 in 2418 ms\n",
      "Running on device: Intel(R) UHD Graphics P630 [0x3e96]\n",
      "rgb.pnm with 3x3 in 293 ms\n",
      "\n",
      "########################################################################\n",
      "# End of output for job 2010748.v-qsvr-1.aidevcloud\n",
      "# Date: Tue 18 Oct 2022 05:45:35 AM PDT\n",
      "########################################################################\n",
      "\n",
      "Job Completed in 60 seconds.\n"
     ]
    }
   ],
   "source": [
    "! chmod 755 q; chmod 755 build_run_dp.sh; ./q build_run_dp.sh gen9"
   ]
  },
  {
   "cell_type": "markdown",
   "id": "c0080dbf-4767-470b-acbf-0ad9490427bc",
   "metadata": {},
   "source": [
    "## Referências\n",
    "- https://www.oneapi.io/\n"
   ]
  },
  {
   "cell_type": "code",
   "execution_count": null,
   "id": "76e8a2c1-e868-4ab0-8570-da912494d7e6",
   "metadata": {},
   "outputs": [],
   "source": []
  }
 ],
 "metadata": {
  "kernelspec": {
   "display_name": "Python 3 (Intel® oneAPI 2022.3)",
   "language": "python",
   "name": "c009-intel_distribution_of_python_3_oneapi-beta05-python"
  },
  "language_info": {
   "codemirror_mode": {
    "name": "ipython",
    "version": 3
   },
   "file_extension": ".py",
   "mimetype": "text/x-python",
   "name": "python",
   "nbconvert_exporter": "python",
   "pygments_lexer": "ipython3",
   "version": "3.9.12"
  },
  "nbTranslate": {
   "displayLangs": [
    "*"
   ],
   "hotkey": "alt-t",
   "langInMainMenu": true,
   "sourceLang": "en",
   "targetLang": "fr",
   "useGoogleTranslate": true
  },
  "toc": {
   "base_numbering": 1,
   "nav_menu": {},
   "number_sections": true,
   "sideBar": true,
   "skip_h1_title": false,
   "title_cell": "Table of Contents",
   "title_sidebar": "Contents",
   "toc_cell": false,
   "toc_position": {},
   "toc_section_display": true,
   "toc_window_display": false
  }
 },
 "nbformat": 4,
 "nbformat_minor": 5
}
