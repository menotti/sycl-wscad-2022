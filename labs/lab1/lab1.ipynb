{
 "cells": [
  {
   "cell_type": "markdown",
   "id": "656aa7f3-df4a-4d41-b696-89bb8bf9b3a3",
   "metadata": {},
   "source": [
    "# Filtro Sobel"
   ]
  },
  {
   "cell_type": "code",
   "execution_count": 6,
   "id": "4fb4e40f-ca01-4679-a961-77cf70ed0b89",
   "metadata": {
    "scrolled": false
   },
   "outputs": [
    {
     "data": {
      "text/html": [
       "<div>\n",
       "<style scoped>\n",
       "    .dataframe tbody tr th:only-of-type {\n",
       "        vertical-align: middle;\n",
       "    }\n",
       "\n",
       "    .dataframe tbody tr th {\n",
       "        vertical-align: top;\n",
       "    }\n",
       "\n",
       "    .dataframe thead th {\n",
       "        text-align: right;\n",
       "    }\n",
       "</style>\n",
       "<table border=\"1\" class=\"dataframe\">\n",
       "  <thead>\n",
       "    <tr style=\"text-align: right;\">\n",
       "      <th></th>\n",
       "      <th>versão</th>\n",
       "      <th>tempo_de_execução_s</th>\n",
       "    </tr>\n",
       "  </thead>\n",
       "  <tbody>\n",
       "    <tr>\n",
       "      <th>0</th>\n",
       "      <td>naive</td>\n",
       "      <td>4.318750</td>\n",
       "    </tr>\n",
       "    <tr>\n",
       "      <th>1</th>\n",
       "      <td>o3</td>\n",
       "      <td>1.090910</td>\n",
       "    </tr>\n",
       "    <tr>\n",
       "      <th>2</th>\n",
       "      <td>unroll</td>\n",
       "      <td>0.208338</td>\n",
       "    </tr>\n",
       "    <tr>\n",
       "      <th>3</th>\n",
       "      <td>avx512f</td>\n",
       "      <td>0.197168</td>\n",
       "    </tr>\n",
       "  </tbody>\n",
       "</table>\n",
       "</div>"
      ],
      "text/plain": [
       "    versão   tempo_de_execução_s\n",
       "0    naive              4.318750\n",
       "1       o3              1.090910\n",
       "2   unroll              0.208338\n",
       "3  avx512f              0.197168"
      ]
     },
     "execution_count": 6,
     "metadata": {},
     "output_type": "execute_result"
    },
    {
     "data": {
      "image/png": "[encoded data removed]",
      "text/plain": [
       "<Figure size 640x480 with 1 Axes>"
      ]
     },
     "metadata": {},
     "output_type": "display_data"
    }
   ],
   "source": [
    "# Intel(R) Xeon(R) Gold 6128 CPU @ 3.40GHz\n",
    "import pandas as pd\n",
    "import numpy\n",
    "\n",
    "df = pd.read_csv('data.csv')\n",
    "plt = df.plot(kind=\"bar\")\n",
    "df"
   ]
  },
  {
   "cell_type": "code",
   "execution_count": 33,
   "id": "ad2d72ea",
   "metadata": {},
   "outputs": [
    {
     "name": "stdout",
     "output_type": "stream",
     "text": [
      "Overwriting lab/sobel.cpp\n"
     ]
    }
   ],
   "source": [
    "%%writefile lab/sobel.cpp\n",
    "/**\n",
    "* @file image_sobel.c\n",
    "* @brief C program to convert an image to grayscale\n",
    "* @author Ricardo Menotti\n",
    "* @version v1\n",
    "* @date 2022-09-14\n",
    "*/\n",
    "#include <stdio.h>\n",
    "#include <time.h>\n",
    "#include <math.h>\n",
    "#include <bits/stdc++.h>\n",
    "\n",
    "using namespace std;\n",
    "using namespace std::chrono;\n",
    "        \n",
    "int main()\n",
    "{\n",
    "  auto now = high_resolution_clock::now();\n",
    "  FILE *fIn = fopen(\"arara.bmp\",\"r\");      // Input File name\n",
    "  FILE *fOut = fopen(\"arara_sobel.bmp\",\"w+\");          // Output File name\n",
    "\n",
    "  int i,j,y, x;\n",
    "  unsigned char byte[54];\n",
    "\n",
    "  if(fIn==NULL)              // check if the input file has not been opened succesfully.\n",
    "  {                      \n",
    "    printf(\"File does not exist.\\n\");\n",
    "  }\n",
    "\n",
    "  for(i=0;i<54;i++)            // read the 54 byte header from fIn\n",
    "  {                  \n",
    "    byte[i] = getc(fIn);                \n",
    "  }\n",
    "\n",
    "  fwrite(byte,sizeof(unsigned char),54,fOut);      // write the header back\n",
    "\n",
    "  // extract image height, width and bitDepth from imageHeader \n",
    "  int height = *(int*)&byte[18];\n",
    "  int width = *(int*)&byte[22];\n",
    "  int bitDepth = *(int*)&byte[28];\n",
    "\n",
    "  printf(\"width: %d\\n\",width);\n",
    "  printf(\"height: %d\\n\",height );\n",
    "\n",
    "  int size = height*width;          // calculate the image size\n",
    "\n",
    "  unsigned char buffer[size][3];          // store the input image data\n",
    "  unsigned char bufg[size][3];          // store the grayscale image data\n",
    "  unsigned char out[size][3];          // store the output image data\n",
    "  unsigned char r, g, b;\n",
    "  unsigned int gray;\n",
    "\n",
    "  for(i=0;i<size;i++)            // read image data character by character\n",
    "  {\n",
    "    buffer[i][2]=getc(fIn);          // blue\n",
    "    buffer[i][1]=getc(fIn);          // green\n",
    "    buffer[i][0]=getc(fIn);          // red\n",
    "  }\n",
    "\n",
    "  for(i=0;i<size;i++)           // convert image data character by character\n",
    "  {\n",
    "    b=buffer[i][2];          // blue\n",
    "    g=buffer[i][1];          // green\n",
    "    r=buffer[i][0];          // red\n",
    "    gray=(r+(g<<1)+b)>>2;\n",
    "    bufg[i][2]=(unsigned char)gray; \n",
    "    bufg[i][1]=(unsigned char)gray;\n",
    "    bufg[i][0]=(unsigned char)gray;\n",
    "  }\n",
    "\n",
    "\n",
    "\n",
    "\n",
    "\n",
    "    int pixel_x;\n",
    "    int pixel_y;\n",
    "\n",
    "    float sobel_x[3][3] =\n",
    "    { { -1, 0, 1 },\n",
    "      { -2, 0, 2 },\n",
    "      { -1, 0, 1 } };\n",
    "\n",
    "    float sobel_y[3][3] =\n",
    "    { { -1, -2, -1 },\n",
    "      { 0,  0,  0 },\n",
    "      { 1,  2,  1 } };\n",
    "\n",
    "    for (int x=1; x < width-1; x++)\n",
    "    {\n",
    "        for (int y=1; y < height-1; y++)\n",
    "        {\n",
    "\n",
    "            pixel_x = (sobel_x[0][0] * bufg[width * (y-1) + (x-1)][0])\n",
    "                    + (sobel_x[0][1] * bufg[width * (y-1) +  x   ][0])\n",
    "                    + (sobel_x[0][2] * bufg[width * (y-1) + (x+1)][0])\n",
    "                    + (sobel_x[1][0] * bufg[width *  y    + (x-1)][0])\n",
    "                    + (sobel_x[1][1] * bufg[width *  y    +  x   ][0])\n",
    "                    + (sobel_x[1][2] * bufg[width *  y    + (x+1)][0])\n",
    "                    + (sobel_x[2][0] * bufg[width * (y+1) + (x-1)][0])\n",
    "                    + (sobel_x[2][1] * bufg[width * (y+1) +  x   ][0])\n",
    "                    + (sobel_x[2][2] * bufg[width * (y+1) + (x+1)][0]);\n",
    "\n",
    "            pixel_y = (sobel_y[0][0] * bufg[width * (y-1) + (x-1)][0])\n",
    "                    + (sobel_y[0][1] * bufg[width * (y-1) +  x   ][0])\n",
    "                    + (sobel_y[0][2] * bufg[width * (y-1) + (x+1)][0])\n",
    "                    + (sobel_y[1][0] * bufg[width *  y    + (x-1)][0])\n",
    "                    + (sobel_y[1][1] * bufg[width *  y    +  x   ][0])\n",
    "                    + (sobel_y[1][2] * bufg[width *  y    + (x+1)][0])\n",
    "                    + (sobel_y[2][0] * bufg[width * (y+1) + (x-1)][0])\n",
    "                    + (sobel_y[2][1] * bufg[width * (y+1) +  x   ][0])\n",
    "                    + (sobel_y[2][2] * bufg[width * (y+1) + (x+1)][0]);\n",
    "\n",
    "            int val = (int)sqrt((pixel_x * pixel_x) + (pixel_y * pixel_y));\n",
    "\n",
    "            if(val < 0) val = 0;\n",
    "            if(val > 255) val = 255;\n",
    "\n",
    "            out[height * y + x][2] = (unsigned char)val;\n",
    "            out[height * y + x][1] = (unsigned char)val;\n",
    "            out[height * y + x][0] = (unsigned char)val;\n",
    "        }\n",
    "    }\n",
    "\n",
    "\n",
    "\n",
    "\n",
    "\n",
    "\n",
    "  for(i=0;i<size;i++)            //write image data back to the file\n",
    "  {\n",
    "    putc(out[i][2],fOut);\n",
    "    putc(out[i][1],fOut);\n",
    "    putc(out[i][0],fOut);\n",
    "  }\n",
    "    \n",
    "  fclose(fOut);\n",
    "  fclose(fIn);\n",
    "\n",
    "  auto end_time = duration_cast<duration<double>>(high_resolution_clock::now() - now).count();\n",
    "  cout << \"Time used: \"<< end_time << \"s\" << endl;\n",
    "  return 0;\n",
    "}"
   ]
  },
  {
   "cell_type": "code",
   "execution_count": 34,
   "id": "06ffe062",
   "metadata": {},
   "outputs": [
    {
     "name": "stdout",
     "output_type": "stream",
     "text": [
      "width: 1200\r\n",
      "height: 1600\r\n"
     ]
    }
   ],
   "source": [
    "!dpcpp -o bin/sobel lab/sobel.cpp && bin/sobel "
   ]
  },
  {
   "cell_type": "markdown",
   "id": "a52d14ae",
   "metadata": {},
   "source": [
    "<table>\n",
    "    <tr>\n",
    "        <td><img src=\"lena_color.bmp\" width=\"100%\" /></td>\n",
    "        <td><img src=\"lena_sobel.bmp\" width=\"100%\" /></td>\n",
    "    </tr>\n",
    "</table>"
   ]
  },
  {
   "cell_type": "markdown",
   "id": "7c698ce7",
   "metadata": {},
   "source": [
    "<table>\n",
    "    <tr>\n",
    "        <td><img src=\"arara.bmp\" width=\"100%\" /></td>\n",
    "        <td><img src=\"arara_sobel.bmp\" width=\"100%\" /></td>\n",
    "    </tr>\n",
    "</table>"
   ]
  },
  {
   "cell_type": "code",
   "execution_count": null,
   "id": "9315555a",
   "metadata": {},
   "outputs": [],
   "source": []
  },
  {
   "cell_type": "markdown",
   "id": "c0080dbf-4767-470b-acbf-0ad9490427bc",
   "metadata": {},
   "source": [
    "## Referências\n",
    "- https://www.oneapi.io/\n"
   ]
  },
  {
   "cell_type": "code",
   "execution_count": null,
   "id": "76e8a2c1-e868-4ab0-8570-da912494d7e6",
   "metadata": {},
   "outputs": [],
   "source": []
  }
 ],
 "metadata": {
  "kernelspec": {
   "display_name": "Python 3",
   "language": "python",
   "name": "python3"
  },
  "language_info": {
   "codemirror_mode": {
    "name": "ipython",
    "version": 3
   },
   "file_extension": ".py",
   "mimetype": "text/x-python",
   "name": "python",
   "nbconvert_exporter": "python",
   "pygments_lexer": "ipython3",
   "version": "3.9.10"
  }
 },
 "nbformat": 4,
 "nbformat_minor": 5
}
