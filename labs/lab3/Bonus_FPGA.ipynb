{
 "cells": [
  {
   "cell_type": "markdown",
   "metadata": {},
   "source": [
    "# Para casa: rodando os exemplos no FPGA __(por favor, não façam durante o curso!)__\n",
    "\n",
    "O _script_ a seguir irá preparar o ambiente para coletarmos dados de execução e plotarmos gráficos com eles. Ele precisa ser executado inicialmente uma única vez. O arquivo `hough.csv` já contem dados de execuções anteriores, mas você pode apagá-los e fazer os seus próprios experimentos se desejar. "
   ]
  },
  {
   "cell_type": "code",
   "execution_count": 2,
   "metadata": {},
   "outputs": [
    {
     "data": {
      "text/html": [
       "<div>\n",
       "<style scoped>\n",
       "    .dataframe tbody tr th:only-of-type {\n",
       "        vertical-align: middle;\n",
       "    }\n",
       "\n",
       "    .dataframe tbody tr th {\n",
       "        vertical-align: top;\n",
       "    }\n",
       "\n",
       "    .dataframe thead th {\n",
       "        text-align: right;\n",
       "    }\n",
       "</style>\n",
       "<table border=\"1\" class=\"dataframe\">\n",
       "  <thead>\n",
       "    <tr style=\"text-align: right;\">\n",
       "      <th></th>\n",
       "      <th></th>\n",
       "      <th>execuções</th>\n",
       "      <th>tempo_de_execução_s</th>\n",
       "    </tr>\n",
       "    <tr>\n",
       "      <th>plataforma</th>\n",
       "      <th>versão</th>\n",
       "      <th></th>\n",
       "      <th></th>\n",
       "    </tr>\n",
       "  </thead>\n",
       "  <tbody>\n",
       "    <tr>\n",
       "      <th rowspan=\"4\" valign=\"top\">Intel PAC Platform (pac_ee00000)</th>\n",
       "      <th>banking</th>\n",
       "      <td>10</td>\n",
       "      <td>0.005577</td>\n",
       "    </tr>\n",
       "    <tr>\n",
       "      <th>local_memory</th>\n",
       "      <td>10</td>\n",
       "      <td>0.061376</td>\n",
       "    </tr>\n",
       "    <tr>\n",
       "      <th>original</th>\n",
       "      <td>10</td>\n",
       "      <td>2.870380</td>\n",
       "    </tr>\n",
       "    <tr>\n",
       "      <th>unroll</th>\n",
       "      <td>10</td>\n",
       "      <td>0.018581</td>\n",
       "    </tr>\n",
       "  </tbody>\n",
       "</table>\n",
       "</div>"
      ],
      "text/plain": [
       "                                                 execuções  \\\n",
       "plataforma                        versão                     \n",
       " Intel PAC Platform (pac_ee00000)  banking              10   \n",
       "                                   local_memory         10   \n",
       "                                   original             10   \n",
       "                                   unroll               10   \n",
       "\n",
       "                                                 tempo_de_execução_s  \n",
       "plataforma                        versão                              \n",
       " Intel PAC Platform (pac_ee00000)  banking                  0.005577  \n",
       "                                   local_memory             0.061376  \n",
       "                                   original                 2.870380  \n",
       "                                   unroll                   0.018581  "
      ]
     },
     "execution_count": 2,
     "metadata": {},
     "output_type": "execute_result"
    }
   ],
   "source": [
    "import os\n",
    "import platform\n",
    "import subprocess\n",
    "import pandas as pd\n",
    "import numpy\n",
    "\n",
    "RUNS = 10\n",
    "\n",
    "FILENAME = 'hough.csv'\n",
    "\n",
    "if os.path.isfile(FILENAME):\n",
    "    df = pd.read_csv(FILENAME)\n",
    "else:\n",
    "    df = pd.DataFrame({\"versão\": [], \"plataforma\": [], \"tempo_de_execução_s\": []})\n",
    "\n",
    "df.groupby(['plataforma', 'versão']) \\\n",
    "  .agg({'versão':'count', 'tempo_de_execução_s':'mean'}) \\\n",
    "  .rename(columns={'versão':'count','versão':'execuções'})"
   ]
  },
  {
   "cell_type": "markdown",
   "metadata": {},
   "source": [
    "As etapas seguintes (__A.__, __B.__ e __C.__) precisam ser repetidas para cada versão do código (`original`, `local_memory`, `unroll` e `banking`). O local das modificações é indicado a cada etapa.  \n",
    "\n",
    "## A. Compilando para FPGAs\n",
    "\n",
    "A etapa de compilação para FPGAs só deve ser realizada depois de termos certeza de que nosso código está correto e que terá o desempenho desejado. Como vimos no curso, isso pode ser feito a partir da emulação e análise dos relatórios. \n",
    "\n",
    "O comando (`qsub`) a seguir serve para submeter o script de compilação na fila (__cuidado para não fazer isso mais de uma vez, pois deve demorar horas!__), ele retorna um __id__ (e.g. `691653.v-qsvr-1.aidevcloud`) que pode ser usado para acompanhar o processo. Na célula seguinte podemos acompanhar o processo com o comando `qstat`. Caso queira cancelar o job, use o comando `qdel` seguido de seu __id__ (troque-o na célula logo abaixo). Cada versão do código está em uma pasta diferente, então basta indicar a pasta desejada após a flag `-d` para compilar as diferentes versões do código. \n",
    "\n",
    ">Para evitar que você faça isso por engano durante o curso, eu coloquei uma `#` antes do comando, retire-a quando for realmente executar. Tem mais um detalhe, mas eu tenho certeza de que você descobrirá por conta própria depois ;-) "
   ]
  },
  {
   "cell_type": "code",
   "execution_count": 3,
   "metadata": {},
   "outputs": [
    {
     "name": "stdout",
     "output_type": "stream",
     "text": [
      "692240.v-qsvr-1.aidevcloud\n"
     ]
    }
   ],
   "source": [
    "!#qsub -l nodes=1:fpga_conpile:ppn=2 -d original fpga_compile.sh"
   ]
  },
  {
   "cell_type": "code",
   "execution_count": 5,
   "metadata": {},
   "outputs": [
    {
     "name": "stdout",
     "output_type": "stream",
     "text": [
      "Job ID                    Name             User            Time Use S Queue\n",
      "------------------------- ---------------- --------------- -------- - -----\n",
      "692238.v-qsvr-1            ...ub-singleuser u44807          00:00:08 R jupyterhub     \n",
      "692240.v-qsvr-1            fpga_compile.sh  u44807          00:06:55 R batch          \n"
     ]
    }
   ],
   "source": [
    "! qstat"
   ]
  },
  {
   "cell_type": "code",
   "execution_count": 13,
   "metadata": {},
   "outputs": [
    {
     "name": "stdout",
     "output_type": "stream",
     "text": [
      "qdel: nonexistent job id: 691653.v-qsvr-1.aidevcloud\n"
     ]
    }
   ],
   "source": [
    "! qdel 692240.v-qsvr-1.aidevcloud"
   ]
  },
  {
   "cell_type": "markdown",
   "metadata": {},
   "source": [
    "## B. Rodando seu código no FPGA\n",
    "\n",
    "Após uma longa espera, o compilador deve ter gerado o código específico para rodar no FPGA (`hough_transform.fpga`), agora é hora de executá-lo!\n",
    "\n",
    "O _script_ abaixo submete 10 vezes o código gerado para execução em nós com FPGAs e só precisa ser invocado uma única vez para cada versão do código. As execuções podem ocorrer em paralelo e nós diferentes, de acordo com a disponibilidade do sistema. Você pode acompanhar com o comando `qstat` na célula logo abaixo, ou digitar `watch qstat` em um terminal (eu não disse isso antes, pois esperar a compilação olhando para a tela pode causar sérios problemas :-P). Cada versão do código está em uma pasta diferente, então basta indicar a pasta desejada após a flag `-d` para rodar as diferentes versões do código."
   ]
  },
  {
   "cell_type": "code",
   "execution_count": 46,
   "metadata": {},
   "outputs": [
    {
     "name": "stdout",
     "output_type": "stream",
     "text": [
      "692344.v-qsvr-1.aidevcloud\n",
      "692345.v-qsvr-1.aidevcloud\n",
      "692346.v-qsvr-1.aidevcloud\n",
      "692347.v-qsvr-1.aidevcloud\n",
      "692348.v-qsvr-1.aidevcloud\n",
      "692349.v-qsvr-1.aidevcloud\n",
      "692350.v-qsvr-1.aidevcloud\n",
      "692351.v-qsvr-1.aidevcloud\n",
      "692352.v-qsvr-1.aidevcloud\n",
      "692353.v-qsvr-1.aidevcloud\n"
     ]
    }
   ],
   "source": [
    "! for i in {1..10}; do qsub -l nodes=1:fpga_runtime:ppn=2 -d original fpga_run.sh; done"
   ]
  },
  {
   "cell_type": "code",
   "execution_count": 49,
   "metadata": {},
   "outputs": [
    {
     "name": "stdout",
     "output_type": "stream",
     "text": [
      "Job ID                    Name             User            Time Use S Queue\n",
      "------------------------- ---------------- --------------- -------- - -----\n",
      "692238.v-qsvr-1            ...ub-singleuser u44807          00:03:24 R jupyterhub     \n",
      "692347.v-qsvr-1            fpga_run.sh      u44807                 0 R batch          \n",
      "692348.v-qsvr-1            fpga_run.sh      u44807                 0 R batch          \n",
      "692349.v-qsvr-1            fpga_run.sh      u44807                 0 R batch          \n",
      "692350.v-qsvr-1            fpga_run.sh      u44807                 0 Q batch          \n",
      "692351.v-qsvr-1            fpga_run.sh      u44807                 0 Q batch          \n",
      "692352.v-qsvr-1            fpga_run.sh      u44807                 0 Q batch          \n",
      "692353.v-qsvr-1            fpga_run.sh      u44807                 0 Q batch          \n"
     ]
    }
   ],
   "source": [
    "! qstat"
   ]
  },
  {
   "cell_type": "markdown",
   "metadata": {},
   "source": [
    "## C. Coletando os dados\n",
    "\n",
    "Comparada à compilação, a execução é quase instantânea, não é mesmo? \n",
    "\n",
    "Cada _job_ enviado para execução, gera um arquivo da saída padrão (`stdout`) e outro com possíveis erros (`stderr`). Para cada versão do código, certifique-se de que os arquivos de erro estão vazios antes de prosseguir com a coleta dos dados. Se o comando a seguir não retornar nada, está tudo certo! Se algum erro aparecer, certifique-se de apagar os arquivos das execuções problematicas e disparar novas para substituí-las. Eles podem ocorrer, por exemplo, se um nó que deveria ter um FPGA não conseguir acessá-lo no momento da execução. \n",
    "\n",
    "__Não esqueça de modificar o nome da pasta a cada versão do código.__"
   ]
  },
  {
   "cell_type": "code",
   "execution_count": 50,
   "metadata": {},
   "outputs": [],
   "source": [
    "! cat original/*.e*"
   ]
  },
  {
   "cell_type": "markdown",
   "metadata": {},
   "source": [
    "O comando abaixo irá pegar as saídas das execuções, filtrar as linhas desejadas, separar o tempo de execução e colocar no nosso arquivo de dados. Você só precisa executá-lo uma única vez para cada versão do código. Como ele não apaga as saídas, novas execuções dele irão adicionar os mesmos dados no final do arquivo. Se isso acontecer, basta abrir o arquivo de dados e apagar as linhas excedentes. \n",
    "\n",
    "__Note que você precisa alterá-lo em dois locais: (i) após o comando `cd` que muda a pasta para a versão desejada; (ii) ao final das aspas duplas, dentro das chaves do comando `awk`, indicando qual a versão.__ "
   ]
  },
  {
   "cell_type": "code",
   "execution_count": 33,
   "metadata": {},
   "outputs": [],
   "source": [
    "! cd original; cat fpga_run.sh.o* | grep seconds | awk '{ print $4 \", Intel PAC Platform (pac_ee00000), original\" }' >> ../hough.csv"
   ]
  },
  {
   "cell_type": "code",
   "execution_count": 3,
   "metadata": {},
   "outputs": [
    {
     "data": {
      "text/plain": [
       "Text(0, 0.5, 'Tempo de execução (s)')"
      ]
     },
     "execution_count": 3,
     "metadata": {},
     "output_type": "execute_result"
    },
    {
     "data": {
      "image/png": "[encoded data removed]",
      "text/plain": [
       "<Figure size 640x480 with 1 Axes>"
      ]
     },
     "metadata": {},
     "output_type": "display_data"
    }
   ],
   "source": [
    "df = pd.read_csv(FILENAME)\n",
    "by_version = df.groupby(by=\"versão\", sort=False)\n",
    "avg_time = by_version.mean()\n",
    "std = by_version.std()\n",
    "plt = avg_time.plot(legend=False, kind=\"bar\", log=True, yerr=std)\n",
    "plt.set_title(\"Tempo médio de execução\")\n",
    "plt.set_ylabel(\"Tempo de execução (s)\")"
   ]
  },
  {
   "cell_type": "code",
   "execution_count": 4,
   "metadata": {},
   "outputs": [
    {
     "data": {
      "text/html": [
       "<div>\n",
       "<style scoped>\n",
       "    .dataframe tbody tr th:only-of-type {\n",
       "        vertical-align: middle;\n",
       "    }\n",
       "\n",
       "    .dataframe tbody tr th {\n",
       "        vertical-align: top;\n",
       "    }\n",
       "\n",
       "    .dataframe thead th {\n",
       "        text-align: right;\n",
       "    }\n",
       "</style>\n",
       "<table border=\"1\" class=\"dataframe\">\n",
       "  <thead>\n",
       "    <tr style=\"text-align: right;\">\n",
       "      <th></th>\n",
       "      <th>ALUTs</th>\n",
       "      <th>Registers</th>\n",
       "      <th>Logic utilization</th>\n",
       "      <th>DSP blocks</th>\n",
       "      <th>RAM blocks</th>\n",
       "      <th>plataforma</th>\n",
       "      <th>versão</th>\n",
       "    </tr>\n",
       "  </thead>\n",
       "  <tbody>\n",
       "    <tr>\n",
       "      <th>0</th>\n",
       "      <td>73637</td>\n",
       "      <td>121335</td>\n",
       "      <td>85568</td>\n",
       "      <td>2</td>\n",
       "      <td>517</td>\n",
       "      <td>Intel PAC Platform (pac_ee00000)</td>\n",
       "      <td>original</td>\n",
       "    </tr>\n",
       "    <tr>\n",
       "      <th>1</th>\n",
       "      <td>83639</td>\n",
       "      <td>128218</td>\n",
       "      <td>95273</td>\n",
       "      <td>2</td>\n",
       "      <td>537</td>\n",
       "      <td>Intel PAC Platform (pac_ee00000)</td>\n",
       "      <td>local_memory</td>\n",
       "    </tr>\n",
       "    <tr>\n",
       "      <th>2</th>\n",
       "      <td>133770</td>\n",
       "      <td>172310</td>\n",
       "      <td>127001</td>\n",
       "      <td>64</td>\n",
       "      <td>1030</td>\n",
       "      <td>Intel PAC Platform (pac_ee00000)</td>\n",
       "      <td>unroll</td>\n",
       "    </tr>\n",
       "    <tr>\n",
       "      <th>3</th>\n",
       "      <td>115876</td>\n",
       "      <td>159260</td>\n",
       "      <td>115789</td>\n",
       "      <td>64</td>\n",
       "      <td>1125</td>\n",
       "      <td>Intel PAC Platform (pac_ee00000)</td>\n",
       "      <td>banking</td>\n",
       "    </tr>\n",
       "  </tbody>\n",
       "</table>\n",
       "</div>"
      ],
      "text/plain": [
       "    ALUTs  Registers  Logic utilization  DSP blocks  RAM blocks  \\\n",
       "0   73637     121335              85568           2         517   \n",
       "1   83639     128218              95273           2         537   \n",
       "2  133770     172310             127001          64        1030   \n",
       "3  115876     159260             115789          64        1125   \n",
       "\n",
       "                         plataforma         versão  \n",
       "0  Intel PAC Platform (pac_ee00000)       original  \n",
       "1  Intel PAC Platform (pac_ee00000)   local_memory  \n",
       "2  Intel PAC Platform (pac_ee00000)         unroll  \n",
       "3  Intel PAC Platform (pac_ee00000)        banking  "
      ]
     },
     "execution_count": 4,
     "metadata": {},
     "output_type": "execute_result"
    },
    {
     "data": {
      "image/png": "[encoded data removed]",
      "text/plain": [
       "<Figure size 640x480 with 1 Axes>"
      ]
     },
     "metadata": {},
     "output_type": "display_data"
    }
   ],
   "source": [
    "df = pd.read_csv('resources.csv')\n",
    "by_version = df.groupby(by=\"versão\", sort=False)\n",
    "avg_time = by_version.mean()\n",
    "std = by_version.std()\n",
    "plt = avg_time.plot(legend=True, kind=\"bar\", log=True, yerr=std)\n",
    "df"
   ]
  },
  {
   "cell_type": "code",
   "execution_count": null,
   "metadata": {},
   "outputs": [],
   "source": []
  }
 ],
 "metadata": {
  "kernelspec": {
   "display_name": "Python 3 (ipykernel)",
   "language": "python",
   "name": "python3"
  },
  "language_info": {
   "codemirror_mode": {
    "name": "ipython",
    "version": 3
   },
   "file_extension": ".py",
   "mimetype": "text/x-python",
   "name": "python",
   "nbconvert_exporter": "python",
   "pygments_lexer": "ipython3",
   "version": "3.9.10"
  }
 },
 "nbformat": 4,
 "nbformat_minor": 4
}
