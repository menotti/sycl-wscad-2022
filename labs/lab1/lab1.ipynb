{
 "cells": [
  {
   "cell_type": "markdown",
   "id": "656aa7f3-df4a-4d41-b696-89bb8bf9b3a3",
   "metadata": {},
   "source": [
    "# Otimizações de grão fino (SIMD)\n",
    "\n",
    "A seguir vamos examinar a CPU disponível, seu conjunto de instruções e a capacidade do GCC para gerar código usando estas instruções. "
   ]
  },
  {
   "cell_type": "code",
   "execution_count": 99,
   "id": "1ebf77fc-9544-463e-a85a-d82c715dc94d",
   "metadata": {},
   "outputs": [
    {
     "name": "stdout",
     "output_type": "stream",
     "text": [
      "*** Getting CPU flag capabilities and number of cores\n",
      "     24 flags\t\t: fpu vme de pse tsc msr pae mce cx8 apic sep mtrr pge mca cmov pat pse36 clflush dts acpi mmx fxsr sse sse2 ss ht tm pbe syscall nx pdpe1gb rdtscp lm constant_tsc art arch_perfmon pebs bts rep_good nopl xtopology nonstop_tsc cpuid aperfmperf pni pclmulqdq dtes64 monitor ds_cpl vmx smx est tm2 ssse3 sdbg fma cx16 xtpr pdcm pcid dca sse4_1 sse4_2 x2apic movbe popcnt tsc_deadline_timer aes xsave avx f16c rdrand lahf_lm abm 3dnowprefetch cpuid_fault epb cat_l3 cdp_l3 invpcid_single pti ssbd mba ibrs ibpb stibp tpr_shadow vnmi flexpriority ept vpid ept_ad fsgsbase tsc_adjust bmi1 hle avx2 smep bmi2 erms invpcid rtm cqm mpx rdt_a avx512f avx512dq rdseed adx smap clflushopt clwb intel_pt avx512cd avx512bw avx512vl xsaveopt xsavec xgetbv1 xsaves cqm_llc cqm_occup_llc cqm_mbm_total cqm_mbm_local dtherm ida arat pln pts hwp hwp_act_window hwp_epp hwp_pkg_req pku ospke md_clear flush_l1d\n",
      "     24 model name\t: Intel(R) Xeon(R) Gold 6128 CPU @ 3.40GHz\n",
      "*** Getting GCC capabilities\n",
      "#define __AVX__ 1\n",
      "#define __AVX2__ 1\n",
      "#define __AVX512BW__ 1\n",
      "#define __AVX512CD__ 1\n",
      "#define __AVX512DQ__ 1\n",
      "#define __AVX512F__ 1\n",
      "#define __AVX512VL__ 1\n",
      "#define __SSE__ 1\n",
      "#define __SSE2__ 1\n",
      "#define __SSE2_MATH__ 1\n",
      "#define __SSE3__ 1\n",
      "#define __SSE4_1__ 1\n",
      "#define __SSE4_2__ 1\n",
      "#define __SSE_MATH__ 1\n",
      "#define __SSSE3__ 1\n"
     ]
    }
   ],
   "source": [
    "#CPU flag detection\n",
    "!echo \"*** Getting CPU flag capabilities and number of cores\"\n",
    "!cat /proc/cpuinfo  | egrep \"(flags|model name)\" | sort | uniq -c\n",
    "#Compiler capabilities. -march=native is required!\n",
    "!echo \"*** Getting GCC capabilities\"\n",
    "!gcc -march=native -dM -E - < /dev/null | egrep \"SSE|AVX\" | sort "
   ]
  },
  {
   "cell_type": "code",
   "execution_count": 142,
   "id": "8b5038bd-291c-4f7e-aa39-5407e3725237",
   "metadata": {},
   "outputs": [
    {
     "name": "stdout",
     "output_type": "stream",
     "text": [
      "Overwriting lab/autovector.cpp\n"
     ]
    }
   ],
   "source": [
    "%%writefile lab/autovector.cpp\n",
    "#pragma GCC optimize(\"O3\")\n",
    "#pragma GCC optimize(\"unroll-loops\",\"omit-frame-pointer\",\"inline\")\n",
    "#pragma GCC option(\"arch=native\",\"tune=native\",\"no-zero-upper\")\n",
    "#pragma GCC target(\"avx512f\")\n",
    "#include <x86intrin.h>\n",
    "#include <bits/stdc++.h>\n",
    "\n",
    "using namespace std;\n",
    "using namespace std::chrono;\n",
    "\n",
    "int main()\n",
    "{\n",
    "\tconst int N = 200000; //Array Size\n",
    "\tconst int noTests = 10000; //Number of tests\n",
    "\tfloat a[N],b[N],c[N],result[N];\n",
    "    auto now = high_resolution_clock::now();\n",
    "    for (int i = 0; i < N; ++i)  //Data initialization\n",
    "\t{ \n",
    "      a[i] =       ((float)i)+ 0.1335f; \n",
    "\t  b[i] = 1.50f*((float)i)+ 0.9383f; \n",
    "\t  c[i] = 0.33f*((float)i)+ 0.1172f; \n",
    "    }    \n",
    "   for (int i = 0; i < noTests; ++i) \n",
    "\t for (int j = 0; j < N; ++j)\n",
    "\t {\n",
    "\t  result[j] = a[j]+b[j]-c[j]+3*(float)i;\n",
    "\t }\n",
    "\tauto end_time = duration_cast<duration<double>>(high_resolution_clock::now() - now).count();\n",
    "\tassert( result[2] == ( 2.0f + 0.1335f)+( 1.50f*2.0f + 0.9383f)-(0.33f*2.0f+0.1172f)+3*(float)(noTests-1));\n",
    "    cout << \"Time used: \"<< end_time << \"s, N * noTests=\"<<(N*noTests)<< endl;\n",
    "    return 0;\n",
    "}"
   ]
  },
  {
   "cell_type": "code",
   "execution_count": 143,
   "id": "d4c762f4-71aa-4213-86fa-0380ee517927",
   "metadata": {},
   "outputs": [],
   "source": [
    "!g++ -S lab/autovector.cpp -fverbose-asm"
   ]
  },
  {
   "cell_type": "code",
   "execution_count": 144,
   "id": "a2f7120d-c802-4598-bbcc-85025424a32b",
   "metadata": {},
   "outputs": [
    {
     "name": "stdout",
     "output_type": "stream",
     "text": [
      "Time used: 0.200524s, N * noTests=2000000000\n"
     ]
    }
   ],
   "source": [
    "!g++ -o bin/autovector lab/autovector.cpp && bin/autovector"
   ]
  },
  {
   "cell_type": "code",
   "execution_count": 145,
   "id": "9406f919-0f3f-4074-b08f-880aab688e43",
   "metadata": {},
   "outputs": [],
   "source": [
    "!dpcpp -S lab/autovector.cpp -fverbose-asm"
   ]
  },
  {
   "cell_type": "code",
   "execution_count": 146,
   "id": "7944652b-48b9-439e-81fe-559940dc16fd",
   "metadata": {},
   "outputs": [
    {
     "name": "stdout",
     "output_type": "stream",
     "text": [
      "autovector: lab/autovector.cpp:29: int main(): Assertion `result[2] == ( 2.0f + 0.1335f)+( 1.50f*2.0f + 0.9383f)-(0.33f*2.0f+0.1172f)+3*(float)(noTests-1)' failed.\n"
     ]
    }
   ],
   "source": [
    "!dpcpp -o bin/autovector lab/autovector.cpp && bin/autovector"
   ]
  },
  {
   "cell_type": "code",
   "execution_count": 147,
   "id": "4fb4e40f-ca01-4679-a961-77cf70ed0b89",
   "metadata": {},
   "outputs": [
    {
     "data": {
      "text/html": [
       "<div>\n",
       "<style scoped>\n",
       "    .dataframe tbody tr th:only-of-type {\n",
       "        vertical-align: middle;\n",
       "    }\n",
       "\n",
       "    .dataframe tbody tr th {\n",
       "        vertical-align: top;\n",
       "    }\n",
       "\n",
       "    .dataframe thead th {\n",
       "        text-align: right;\n",
       "    }\n",
       "</style>\n",
       "<table border=\"1\" class=\"dataframe\">\n",
       "  <thead>\n",
       "    <tr style=\"text-align: right;\">\n",
       "      <th></th>\n",
       "      <th>versão</th>\n",
       "      <th>tempo_de_execução_s</th>\n",
       "    </tr>\n",
       "  </thead>\n",
       "  <tbody>\n",
       "    <tr>\n",
       "      <th>0</th>\n",
       "      <td>naive</td>\n",
       "      <td>4.318750</td>\n",
       "    </tr>\n",
       "    <tr>\n",
       "      <th>1</th>\n",
       "      <td>o3</td>\n",
       "      <td>1.090910</td>\n",
       "    </tr>\n",
       "    <tr>\n",
       "      <th>2</th>\n",
       "      <td>unroll</td>\n",
       "      <td>0.208338</td>\n",
       "    </tr>\n",
       "    <tr>\n",
       "      <th>3</th>\n",
       "      <td>avx512f</td>\n",
       "      <td>0.197168</td>\n",
       "    </tr>\n",
       "  </tbody>\n",
       "</table>\n",
       "</div>"
      ],
      "text/plain": [
       "    versão   tempo_de_execução_s\n",
       "0    naive              4.318750\n",
       "1       o3              1.090910\n",
       "2   unroll              0.208338\n",
       "3  avx512f              0.197168"
      ]
     },
     "execution_count": 147,
     "metadata": {},
     "output_type": "execute_result"
    },
    {
     "data": {
      "image/png": "[encoded data removed]",
      "text/plain": [
       "<Figure size 432x288 with 1 Axes>"
      ]
     },
     "metadata": {
      "needs_background": "light"
     },
     "output_type": "display_data"
    }
   ],
   "source": [
    "import pandas as pd\n",
    "import numpy\n",
    "\n",
    "df = pd.read_csv('data.csv')\n",
    "plt = df.plot(kind=\"bar\")\n",
    "df"
   ]
  },
  {
   "cell_type": "markdown",
   "id": "c0080dbf-4767-470b-acbf-0ad9490427bc",
   "metadata": {},
   "source": [
    "## Referências\n",
    "- https://www.oneapi.io/\n",
    "- https://tech.io/playgrounds/53858/vetorizacao-sse-avx/"
   ]
  },
  {
   "cell_type": "code",
   "execution_count": null,
   "id": "76e8a2c1-e868-4ab0-8570-da912494d7e6",
   "metadata": {},
   "outputs": [],
   "source": []
  }
 ],
 "metadata": {
  "kernelspec": {
   "display_name": "Python 3.8 (Intel® oneAPI)",
   "language": "python",
   "name": "c009-intel_distribution_of_python_3_oneapi-beta05-python"
  },
  "language_info": {
   "codemirror_mode": {
    "name": "ipython",
    "version": 3
   },
   "file_extension": ".py",
   "mimetype": "text/x-python",
   "name": "python",
   "nbconvert_exporter": "python",
   "pygments_lexer": "ipython3",
   "version": "3.9.10"
  }
 },
 "nbformat": 4,
 "nbformat_minor": 5
}
