{
 "cells": [
  {
   "cell_type": "markdown",
   "id": "656aa7f3-df4a-4d41-b696-89bb8bf9b3a3",
   "metadata": {},
   "source": [
    "# Filtro Sobel"
   ]
  },
  {
   "cell_type": "code",
   "execution_count": 1,
   "id": "ad2d72ea",
   "metadata": {},
   "outputs": [
    {
     "name": "stdout",
     "output_type": "stream",
     "text": [
      "Overwriting lab/sobel.cpp\n"
     ]
    }
   ],
   "source": [
    "%%writefile lab/sobel.cpp\n",
    "#include <cstdio>\n",
    "#include <string>\n",
    "#include <fstream>\n",
    "#include <iostream>\n",
    "#include <chrono>\n",
    "#include <math.h>\n",
    "\n",
    "#define itera 1000\n",
    "\n",
    "using namespace std;\n",
    "using namespace std::chrono;\n",
    "\n",
    "int main(int argc, char* argv[]) {\n",
    "    int dimx, dimy, depth, size;\n",
    "    string line; \n",
    "\n",
    "    if (argc < 3) {\n",
    "        cout << \"Usage: \" << argv[0] << \" infile.pnm outfile.pgm\" << endl;\n",
    "        return EXIT_FAILURE; \n",
    "    }\n",
    "\n",
    "    ifstream ifs(argv[1], ios_base::in | ios_base::binary);\n",
    "\n",
    "    ifs >> line;\n",
    "    if (line != \"P6\") {\n",
    "        cout << argv[1] << \" is not a valid P6 file!\" << endl;\n",
    "        return EXIT_FAILURE;\n",
    "    }\n",
    "    ifs >> dimx >> dimy >> depth;\n",
    "    ifs.ignore();\n",
    "\n",
    "    ofstream ofs(argv[2], ios_base::out | ios_base::binary);\n",
    "    ofs << \"P5\" << endl << dimx << ' ' << dimy << endl << \"255\" << endl;\n",
    "\n",
    "    size = dimx*dimy;\n",
    "    char *rgb = new char[size*3];\n",
    "    char *gray = new char[size];\n",
    "    char *sobel = new char[size];\n",
    "\n",
    "    unsigned char r, g, b;\n",
    "\n",
    "    auto len = ifs.read(rgb, size*3+7).gcount();\n",
    "    if (len != size*3) {\n",
    "        cout << \"Error reading file!\" << endl;\n",
    "        return EXIT_FAILURE;\n",
    "    }\n",
    "    ifs.close();\n",
    "\n",
    "    auto start = high_resolution_clock::now();\n",
    "    for (auto it = 0u; it < itera; it++) {\n",
    "        for (auto ii = 0u, oi = 0u; ii < size*3; ii=ii+3, oi++) {\n",
    "            r = (char)rgb[ii];\n",
    "            g = (char)rgb[ii+1];\n",
    "            b = (char)rgb[ii+2];\n",
    "            int gs = (r+(g<<1)+b)>>2;\n",
    "            gray[oi] = (char)gs;\n",
    "        }\n",
    "\n",
    "        int pixel_x;\n",
    "        int pixel_y;\n",
    "\n",
    "        float sobel_x[3][3] =\n",
    "        {{ -1, 0, 1 },\n",
    "         { -2, 0, 2 },\n",
    "         { -1, 0, 1 }};\n",
    "\n",
    "        float sobel_y[3][3] =\n",
    "        {{ -1, -2, -1 },\n",
    "         {  0,  0,  0 },\n",
    "         {  1,  2,  1 }};\n",
    "\n",
    "        for (int x=1; x < dimx-1; x++) {\n",
    "            for (int y=1; y < dimy-1; y++) {\n",
    "                pixel_x = (sobel_x[0][0] * gray[dimx * (y-1) + (x-1)])\n",
    "                        + (sobel_x[0][1] * gray[dimx * (y-1) +  x   ])\n",
    "                        + (sobel_x[0][2] * gray[dimx * (y-1) + (x+1)])\n",
    "                        + (sobel_x[1][0] * gray[dimx *  y    + (x-1)])\n",
    "                        + (sobel_x[1][1] * gray[dimx *  y    +  x   ])\n",
    "                        + (sobel_x[1][2] * gray[dimx *  y    + (x+1)])\n",
    "                        + (sobel_x[2][0] * gray[dimx * (y+1) + (x-1)])\n",
    "                        + (sobel_x[2][1] * gray[dimx * (y+1) +  x   ])\n",
    "                        + (sobel_x[2][2] * gray[dimx * (y+1) + (x+1)]);\n",
    "                pixel_y = (sobel_y[0][0] * gray[dimx * (y-1) + (x-1)])\n",
    "                        + (sobel_y[0][1] * gray[dimx * (y-1) +  x   ])\n",
    "                        + (sobel_y[0][2] * gray[dimx * (y-1) + (x+1)])\n",
    "                        + (sobel_y[1][0] * gray[dimx *  y    + (x-1)])\n",
    "                        + (sobel_y[1][1] * gray[dimx *  y    +  x   ])\n",
    "                        + (sobel_y[1][2] * gray[dimx *  y    + (x+1)])\n",
    "                        + (sobel_y[2][0] * gray[dimx * (y+1) + (x-1)])\n",
    "                        + (sobel_y[2][1] * gray[dimx * (y+1) +  x   ])\n",
    "                        + (sobel_y[2][2] * gray[dimx * (y+1) + (x+1)]);\n",
    "                int val = (int)sqrt((pixel_x * pixel_x) + (pixel_y * pixel_y));\n",
    "                if(val < 0) val = 0;\n",
    "                if(val > 255) val = 255;\n",
    "                sobel[dimx * y + x] = (unsigned char)val;\n",
    "            }\n",
    "        }\n",
    "    }\n",
    "    auto stop = high_resolution_clock::now();\n",
    "    auto duration = duration_cast<milliseconds>(stop - start);\n",
    "    cout << argv[1] << \" with \" << dimx << \"x\" << dimy << \" in \" << duration.count() << \" ms\" << endl;\n",
    "    ofs.write(sobel, size);\n",
    "    ofs.close();\n",
    "    return EXIT_SUCCESS;\n",
    "}"
   ]
  },
  {
   "cell_type": "code",
   "execution_count": null,
   "id": "06ffe062",
   "metadata": {},
   "outputs": [],
   "source": [
    "!dpcpp -o bin/sobel lab/sobel.cpp && for f in `ls *.pnm`; do bin/sobel $f serial/${f%.*}.pgm; done"
   ]
  },
  {
   "cell_type": "code",
   "execution_count": 15,
   "id": "cd5725da-0316-4ec1-9315-f39cfd81b3ac",
   "metadata": {},
   "outputs": [
    {
     "name": "stdout",
     "output_type": "stream",
     "text": [
      "Job has been submitted to Intel(R) DevCloud and will execute soon.\n",
      "\n",
      "Job ID                    Name             User            Time Use S Queue\n",
      "------------------------- ---------------- --------------- -------- - -----\n",
      "2010713.v-qsvr-1           ...ub-singleuser u122046         00:06:38 R jupyterhub     \n",
      "2010734.v-qsvr-1           STDIN            u122046         00:00:08 R batch          \n",
      "2010748.v-qsvr-1           build_run_dp.sh  u122046                0 Q batch          \n",
      "\n",
      "Waiting for Output ████████████████████████████████████████████████████████████ Done⬇\n",
      "\n",
      "########################################################################\n",
      "#      Date:           Tue 18 Oct 2022 05:44:44 AM PDT\n",
      "#    Job ID:           2010748.v-qsvr-1.aidevcloud\n",
      "#      User:           u122046\n",
      "# Resources:           neednodes=1:gen9:ppn=2,nodes=1:gen9:ppn=2,walltime=06:00:00\n",
      "########################################################################\n",
      "\n",
      "Running on device: Intel(R) UHD Graphics P630 [0x3e96]\n",
      "basilica.pnm with 3456x2592 in 27833 ms\n",
      "Running on device: Intel(R) UHD Graphics P630 [0x3e96]\n",
      "libelula.pnm with 1600x1200 in 6959 ms\n",
      "Running on device: Intel(R) UHD Graphics P630 [0x3e96]\n",
      "lua.pnm with 1000x750 in 2418 ms\n",
      "Running on device: Intel(R) UHD Graphics P630 [0x3e96]\n",
      "rgb.pnm with 3x3 in 293 ms\n",
      "\n",
      "########################################################################\n",
      "# End of output for job 2010748.v-qsvr-1.aidevcloud\n",
      "# Date: Tue 18 Oct 2022 05:45:35 AM PDT\n",
      "########################################################################\n",
      "\n",
      "Job Completed in 60 seconds.\n"
     ]
    }
   ],
   "source": [
    "! chmod 755 q; chmod 755 build_run_dp.sh; ./q build_run_dp.sh gen9"
   ]
  },
  {
   "cell_type": "markdown",
   "id": "c0080dbf-4767-470b-acbf-0ad9490427bc",
   "metadata": {},
   "source": [
    "## Referências\n",
    "- https://www.oneapi.io/\n"
   ]
  },
  {
   "cell_type": "code",
   "execution_count": null,
   "id": "76e8a2c1-e868-4ab0-8570-da912494d7e6",
   "metadata": {},
   "outputs": [],
   "source": []
  }
 ],
 "metadata": {
  "kernelspec": {
   "display_name": "Python 3 (Intel® oneAPI 2022.3)",
   "language": "python",
   "name": "c009-intel_distribution_of_python_3_oneapi-beta05-python"
  },
  "language_info": {
   "codemirror_mode": {
    "name": "ipython",
    "version": 3
   },
   "file_extension": ".py",
   "mimetype": "text/x-python",
   "name": "python",
   "nbconvert_exporter": "python",
   "pygments_lexer": "ipython3",
   "version": "3.9.12"
  },
  "nbTranslate": {
   "displayLangs": [
    "*"
   ],
   "hotkey": "alt-t",
   "langInMainMenu": true,
   "sourceLang": "en",
   "targetLang": "fr",
   "useGoogleTranslate": true
  },
  "toc": {
   "base_numbering": 1,
   "nav_menu": {},
   "number_sections": true,
   "sideBar": true,
   "skip_h1_title": false,
   "title_cell": "Table of Contents",
   "title_sidebar": "Contents",
   "toc_cell": false,
   "toc_position": {},
   "toc_section_display": true,
   "toc_window_display": false
  }
 },
 "nbformat": 4,
 "nbformat_minor": 5
}
