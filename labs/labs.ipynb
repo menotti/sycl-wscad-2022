{
 "cells": [
  {
   "cell_type": "markdown",
   "id": "2a87135e",
   "metadata": {},
   "source": [
    "# [XXIII Simpósio em Sistemas Computacionais de Alto Desempenho](https://wscad.ufsc.br/)\n",
    "\n",
    "## OneAPI: Uma Abordagem para a Computação Heterogênea Centrada no Desenvolvedor\n",
    "\n",
    "### [Ricardo Menotti](mailto:menotti@ufscar.br) e [Tiago da Conceição Oliveira](mailto:tiago.conceicao@fieb.org.br )\n",
    "\n",
    "## Laboratórios\n",
    "\n",
    "### 1. [Filtro Sobel](lab1/lab1.ipynb)\n",
    "\n",
    "### 2. [Bitonic Sort](lab2/lab2.ipynb)\n",
    "\n",
    "### 3. [Transformada de Hough](lab3/lab3.ipynb)\n",
    "\n",
    "## Referências\n",
    "\n",
    "- https://github.com/menotti/sycl-wscad-2022\n",
    "- https://oneapi.io/"
   ]
  },
  {
   "cell_type": "code",
   "execution_count": null,
   "id": "49560eaf",
   "metadata": {},
   "outputs": [],
   "source": []
  }
 ],
 "metadata": {
  "kernelspec": {
   "display_name": "Python 3 (ipykernel)",
   "language": "python",
   "name": "python3"
  },
  "language_info": {
   "codemirror_mode": {
    "name": "ipython",
    "version": 3
   },
   "file_extension": ".py",
   "mimetype": "text/x-python",
   "name": "python",
   "nbconvert_exporter": "python",
   "pygments_lexer": "ipython3",
   "version": "3.9.10"
  }
 },
 "nbformat": 4,
 "nbformat_minor": 5
}
