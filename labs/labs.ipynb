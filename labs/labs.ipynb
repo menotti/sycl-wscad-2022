{
 "cells": [
  {
   "cell_type": "markdown",
   "id": "9f4c1341",
   "metadata": {},
   "source": [
    "# [XXIII Simpósio em Sistemas Computacionais de Alto Desempenho](https://wscad.ufsc.br/)\n",
    "\n",
    "## OneAPI: Uma Abordagem para a Computação Heterogênea Centrada no Desenvolvedor\n",
    "\n",
    "### [Ricardo Menotti](mailto:menotti@ufscar.br) e [Tiago da Conceição Oliveira](mailto:tiago.conceicao@fieb.org.br )\n",
    "\n",
    "## Otimizações de grão fino (SIMD)\n",
    "\n",
    "<img src=\"vector_registers.png\">\n",
    "\n",
    "Antes de entrar no paralelismo de _threads_, principal abordagem da oneAPI para CPUs e GPUs, vamos abordar algumas otimizações de grão fino, das quais muitas delas podem ser obtidas sem qualquer modificação no código. O compilador `dpcpp` foi desenvolvido com base no `llvm` e, portanto, suporta as mesmas otimizações dele. \n",
    "\n",
    "A seguir vamos examinar a CPU disponível, seu conjunto de instruções e a capacidade dos compiladores para gerar código usando estas instruções. "
   ]
  },
  {
   "cell_type": "code",
   "execution_count": 1,
   "id": "26cafaa3",
   "metadata": {},
   "outputs": [
    {
     "name": "stdout",
     "output_type": "stream",
     "text": [
      "*** Getting CPU flag capabilities and number of cores\n",
      "     24 flags\t\t: fpu vme de pse tsc msr pae mce cx8 apic sep mtrr pge mca cmov pat pse36 clflush dts acpi mmx fxsr sse sse2 ss ht tm pbe syscall nx pdpe1gb rdtscp lm constant_tsc art arch_perfmon pebs bts rep_good nopl xtopology nonstop_tsc cpuid aperfmperf pni pclmulqdq dtes64 monitor ds_cpl vmx smx est tm2 ssse3 sdbg fma cx16 xtpr pdcm pcid dca sse4_1 sse4_2 x2apic movbe popcnt tsc_deadline_timer aes xsave avx f16c rdrand lahf_lm abm 3dnowprefetch cpuid_fault epb cat_l3 cdp_l3 invpcid_single pti ssbd mba ibrs ibpb stibp tpr_shadow vnmi flexpriority ept vpid ept_ad fsgsbase tsc_adjust bmi1 hle avx2 smep bmi2 erms invpcid rtm cqm mpx rdt_a avx512f avx512dq rdseed adx smap clflushopt clwb intel_pt avx512cd avx512bw avx512vl xsaveopt xsavec xgetbv1 xsaves cqm_llc cqm_occup_llc cqm_mbm_total cqm_mbm_local dtherm ida arat pln pts hwp hwp_act_window hwp_epp hwp_pkg_req pku ospke md_clear flush_l1d arch_capabilities\n",
      "     24 model name\t: Intel(R) Xeon(R) Gold 6128 CPU @ 3.40GHz\n",
      "*** Getting GCC capabilities\n",
      "#define __AVX__ 1\n",
      "#define __AVX2__ 1\n",
      "#define __AVX512BW__ 1\n",
      "#define __AVX512CD__ 1\n",
      "#define __AVX512DQ__ 1\n",
      "#define __AVX512F__ 1\n",
      "#define __AVX512VL__ 1\n",
      "#define __SSE__ 1\n",
      "#define __SSE2__ 1\n",
      "#define __SSE2_MATH__ 1\n",
      "#define __SSE3__ 1\n",
      "#define __SSE4_1__ 1\n",
      "#define __SSE4_2__ 1\n",
      "#define __SSE_MATH__ 1\n",
      "#define __SSSE3__ 1\n"
     ]
    }
   ],
   "source": [
    "#CPU flag detection\n",
    "!echo \"*** Getting CPU flag capabilities and number of cores\"\n",
    "!cat /proc/cpuinfo  | egrep \"(flags|model name)\" | sort | uniq -c\n",
    "#Compiler capabilities. -march=native is required!\n",
    "!echo \"*** Getting GCC capabilities\"\n",
    "!gcc -march=native -dM -E - < /dev/null | egrep \"SSE|AVX\" | sort "
   ]
  },
  {
   "cell_type": "code",
   "execution_count": 5,
   "id": "76e938a4",
   "metadata": {},
   "outputs": [
    {
     "name": "stdout",
     "output_type": "stream",
     "text": [
      "Overwriting autovector.cpp\n"
     ]
    }
   ],
   "source": [
    "%%writefile autovector.cpp\n",
    "#pragma GCC optimize(\"O3\")\n",
    "#pragma GCC optimize(\"unroll-loops\",\"omit-frame-pointer\",\"inline\")\n",
    "#pragma GCC option(\"arch=native\",\"tune=native\",\"no-zero-upper\")\n",
    "#pragma GCC target(\"avx512f\")\n",
    "#include <x86intrin.h>\n",
    "#include <bits/stdc++.h>\n",
    "\n",
    "using namespace std;\n",
    "using namespace std::chrono;\n",
    "\n",
    "int main()\n",
    "{\n",
    "\tconst int N = 200000; //Array Size\n",
    "\tconst int noTests = 10000; //Number of tests\n",
    "\tfloat a[N],b[N],c[N],result[N];\n",
    "\tauto now = high_resolution_clock::now();\n",
    "\tfor (int i = 0; i < N; ++i)  //Data initialization\n",
    "\t{ \n",
    "\t  a[i] =       ((float)i)+ 0.1335f; \n",
    "\t  b[i] = 1.50f*((float)i)+ 0.9383f; \n",
    "\t  c[i] = 0.33f*((float)i)+ 0.1172f; \n",
    "\t}    \n",
    "\tfor (int i = 0; i < noTests; ++i) \n",
    "\t  for (int j = 0; j < N; ++j)\n",
    "\t  {\n",
    "\t    result[j] = a[j]+b[j]-c[j]+3*(float)i;\n",
    "\t  }\n",
    "\tauto end_time = duration_cast<duration<double>>(high_resolution_clock::now() - now).count();\n",
    "\tassert( result[2] == ( 2.0f + 0.1335f)+( 1.50f*2.0f + 0.9383f)-(0.33f*2.0f+0.1172f)+3*(float)(noTests-1));\n",
    "\tcout << \"Time used: \"<< end_time << \"s, N * noTests=\"<<(N*noTests)<< endl;\n",
    "\treturn 0;\n",
    "}"
   ]
  },
  {
   "cell_type": "code",
   "execution_count": 6,
   "id": "7ab6adea",
   "metadata": {},
   "outputs": [
    {
     "name": "stdout",
     "output_type": "stream",
     "text": [
      "# -fassume-phsa -fasynchronous-unwind-tables -fauto-inc-dec -fcommon\n",
      "# -mglibc -mieee-fp -mlong-double-80 -mmmx -mno-sse4 -mpush-args -mred-zone\n",
      "\t.comm\t_ZStL8__ioinit,1,1\n",
      "\tvmovdqa64\t.LC0(%rip), %zmm1\t#, vect_vec_iv_.51\n",
      "\tvmovaps\t.LC2(%rip), %zmm7\t#, tmp145\n",
      "\tvmovaps\t.LC5(%rip), %zmm4\t#, tmp148\n",
      "\tvmovaps\t.LC6(%rip), %zmm3\t#, tmp138\n",
      "\tvmovdqa64\t%zmm1, %zmm0\t# vect_vec_iv_.51, vect_vec_iv_.51\n",
      "\tvmovaps\t.LC3(%rip), %zmm6\t#, tmp146\n",
      "\tvmovaps\t.LC4(%rip), %zmm5\t#, tmp147\n",
      "\tvcvtdq2ps\t%zmm0, %zmm0\t# vect_vec_iv_.51, vect__1.52\n",
      "\tvaddps\t%zmm7, %zmm0, %zmm2\t# tmp145, vect__1.52, vect__2.53\n",
      "\tvmovdqa64\t.LC1(%rip), %zmm8\t#, tmp144\n",
      "\tvpaddd\t%zmm8, %zmm1, %zmm1\t# tmp144, vect_vec_iv_.51, vect_vec_iv_.51\n",
      "\tvmovaps\t%zmm2, (%r8)\t# vect__2.53, MEM[symbol: a, index: ivtmp.88_92, offset: 0B]\n",
      "\tvmovaps\t%zmm0, %zmm2\t# vect__1.52, vect__4.57\n",
      "\tvfmadd132ps\t%zmm4, %zmm3, %zmm0\t# tmp148, tmp138, vect__6.61\n",
      "\tvfmadd132ps\t%zmm6, %zmm5, %zmm2\t# tmp146, tmp147, vect__4.57\n",
      "\tvmovaps\t%zmm0, (%rdi)\t# vect__6.61, MEM[symbol: c, index: ivtmp.88_92, offset: 0B]\n",
      "\tvmovdqa64\t%zmm1, %zmm0\t# vect_vec_iv_.51, vect_vec_iv_.51\n",
      "\tvpaddd\t%zmm8, %zmm1, %zmm1\t# tmp144, vect_vec_iv_.51, vect_vec_iv_.51\n",
      "\tvcvtdq2ps\t%zmm0, %zmm0\t# vect_vec_iv_.51, vect__1.52\n",
      "\tvmovaps\t%zmm2, (%r9)\t# vect__4.57, MEM[symbol: b, index: ivtmp.88_92, offset: 0B]\n",
      "\tvaddps\t%zmm7, %zmm0, %zmm2\t# tmp145, vect__1.52, vect__2.53\n",
      "\tvmovaps\t%zmm2, 64(%r8)\t# vect__2.53, MEM[symbol: a, index: ivtmp.88_92, offset: 0B]\n",
      "\tvmovaps\t%zmm0, %zmm2\t# vect__1.52, vect__4.57\n",
      "\tvfmadd132ps\t%zmm4, %zmm3, %zmm0\t# tmp148, tmp138, vect__6.61\n",
      "\tvfmadd132ps\t%zmm6, %zmm5, %zmm2\t# tmp146, tmp147, vect__4.57\n",
      "\tvmovaps\t%zmm0, 64(%rdi)\t# vect__6.61, MEM[symbol: c, index: ivtmp.88_92, offset: 0B]\n",
      "\tvmovaps\t%zmm2, 64(%r9)\t# vect__4.57, MEM[symbol: b, index: ivtmp.88_92, offset: 0B]\n",
      "\tvmovdqa64\t%zmm1, %zmm0\t# vect_vec_iv_.51, vect_vec_iv_.51\n",
      "\tvpaddd\t%zmm8, %zmm1, %zmm1\t# tmp144, vect_vec_iv_.51, vect_vec_iv_.51\n",
      "\tvcvtdq2ps\t%zmm0, %zmm0\t# vect_vec_iv_.51, vect__1.52\n",
      "\tvaddps\t%zmm7, %zmm0, %zmm2\t# tmp145, vect__1.52, vect__2.53\n",
      "\tvmovaps\t%zmm2, (%r8,%rax)\t# vect__2.53, MEM[symbol: a, index: ivtmp.88_92, offset: 0B]\n",
      "\tvmovaps\t%zmm0, %zmm2\t# vect__1.52, vect__4.57\n",
      "\tvfmadd132ps\t%zmm4, %zmm3, %zmm0\t# tmp148, tmp138, vect__6.61\n",
      "\tvfmadd132ps\t%zmm6, %zmm5, %zmm2\t# tmp146, tmp147, vect__4.57\n",
      "\tvmovaps\t%zmm0, (%rdi,%rax)\t# vect__6.61, MEM[symbol: c, index: ivtmp.88_92, offset: 0B]\n",
      "\tvmovdqa64\t%zmm1, %zmm0\t# vect_vec_iv_.51, vect_vec_iv_.51\n",
      "\tvpaddd\t%zmm8, %zmm1, %zmm1\t# tmp144, vect_vec_iv_.51, vect_vec_iv_.51\n",
      "\tvmovaps\t%zmm2, (%r9,%rax)\t# vect__4.57, MEM[symbol: b, index: ivtmp.88_92, offset: 0B]\n",
      "\tvcvtdq2ps\t%zmm0, %zmm0\t# vect_vec_iv_.51, vect__1.52\n",
      "\tvaddps\t%zmm7, %zmm0, %zmm2\t# tmp145, vect__1.52, vect__2.53\n",
      "\tvmovaps\t%zmm2, 64(%r8,%rax)\t# vect__2.53, MEM[symbol: a, index: ivtmp.88_92, offset: 0B]\n",
      "\tvmovaps\t%zmm0, %zmm2\t# vect__1.52, vect__4.57\n",
      "\tvfmadd132ps\t%zmm4, %zmm3, %zmm0\t# tmp148, tmp138, vect__6.61\n",
      "\tvfmadd132ps\t%zmm6, %zmm5, %zmm2\t# tmp146, tmp147, vect__4.57\n",
      "\tvmovaps\t%zmm0, 64(%rdi,%rax)\t# vect__6.61, MEM[symbol: c, index: ivtmp.88_92, offset: 0B]\n",
      "\tvmovdqa64\t%zmm1, %zmm0\t# vect_vec_iv_.51, vect_vec_iv_.51\n",
      "\tvpaddd\t%zmm8, %zmm1, %zmm1\t# tmp144, vect_vec_iv_.51, vect_vec_iv_.51\n",
      "\tvmovaps\t%zmm2, 64(%r9,%rax)\t# vect__4.57, MEM[symbol: b, index: ivtmp.88_92, offset: 0B]\n",
      "\tvcvtdq2ps\t%zmm0, %zmm0\t# vect_vec_iv_.51, vect__1.52\n",
      "\tvaddps\t%zmm7, %zmm0, %zmm2\t# tmp145, vect__1.52, vect__2.53\n",
      "\tvmovaps\t%zmm2, 128(%r8,%rax)\t# vect__2.53, MEM[symbol: a, index: ivtmp.88_92, offset: 0B]\n",
      "\tvmovaps\t%zmm0, %zmm2\t# vect__1.52, vect__4.57\n",
      "\tvfmadd132ps\t%zmm4, %zmm3, %zmm0\t# tmp148, tmp138, vect__6.61\n",
      "\tvfmadd132ps\t%zmm6, %zmm5, %zmm2\t# tmp146, tmp147, vect__4.57\n",
      "\tvmovaps\t%zmm0, 128(%rdi,%rax)\t# vect__6.61, MEM[symbol: c, index: ivtmp.88_92, offset: 0B]\n",
      "\tvmovdqa64\t%zmm1, %zmm0\t# vect_vec_iv_.51, vect_vec_iv_.51\n",
      "\tvpaddd\t%zmm8, %zmm1, %zmm1\t# tmp144, vect_vec_iv_.51, vect_vec_iv_.51\n",
      "\tvmovaps\t%zmm2, 128(%r9,%rax)\t# vect__4.57, MEM[symbol: b, index: ivtmp.88_92, offset: 0B]\n",
      "\tvcvtdq2ps\t%zmm0, %zmm0\t# vect_vec_iv_.51, vect__1.52\n",
      "\tvaddps\t%zmm7, %zmm0, %zmm2\t# tmp145, vect__1.52, vect__2.53\n",
      "\tvmovaps\t%zmm2, 128(%r8,%rdx)\t# vect__2.53, MEM[symbol: a, index: ivtmp.88_92, offset: 0B]\n",
      "\tvmovaps\t%zmm0, %zmm2\t# vect__1.52, vect__4.57\n",
      "\tvfmadd132ps\t%zmm4, %zmm3, %zmm0\t# tmp148, tmp138, vect__6.61\n",
      "\tvfmadd132ps\t%zmm6, %zmm5, %zmm2\t# tmp146, tmp147, vect__4.57\n",
      "\tvmovaps\t%zmm0, 128(%rdi,%rdx)\t# vect__6.61, MEM[symbol: c, index: ivtmp.88_92, offset: 0B]\n",
      "\tvmovdqa64\t%zmm1, %zmm0\t# vect_vec_iv_.51, vect_vec_iv_.51\n",
      "\tvpaddd\t%zmm8, %zmm1, %zmm1\t# tmp144, vect_vec_iv_.51, vect_vec_iv_.51\n",
      "\tvcvtdq2ps\t%zmm0, %zmm0\t# vect_vec_iv_.51, vect__1.52\n",
      "\tvmovaps\t%zmm2, 128(%r9,%rdx)\t# vect__4.57, MEM[symbol: b, index: ivtmp.88_92, offset: 0B]\n",
      "\tvaddps\t%zmm7, %zmm0, %zmm2\t# tmp145, vect__1.52, vect__2.53\n",
      "\tvmovaps\t%zmm2, 192(%r8,%rdx)\t# vect__2.53, MEM[symbol: a, index: ivtmp.88_92, offset: 0B]\n",
      "\tvmovaps\t%zmm0, %zmm2\t# vect__1.52, vect__4.57\n",
      "\tvfmadd132ps\t%zmm4, %zmm3, %zmm0\t# tmp148, tmp138, vect__6.61\n",
      "\tvfmadd132ps\t%zmm6, %zmm5, %zmm2\t# tmp146, tmp147, vect__4.57\n",
      "\tvmovaps\t%zmm0, 192(%rdi,%rdx)\t# vect__6.61, MEM[symbol: c, index: ivtmp.88_92, offset: 0B]\n",
      "\tvmovdqa64\t%zmm1, %zmm0\t# vect_vec_iv_.51, vect_vec_iv_.51\n",
      "\tvpaddd\t%zmm8, %zmm1, %zmm1\t# tmp144, vect_vec_iv_.51, vect_vec_iv_.51\n",
      "\tvcvtdq2ps\t%zmm0, %zmm0\t# vect_vec_iv_.51, vect__1.52\n",
      "\tvmovaps\t%zmm2, 192(%r9,%rdx)\t# vect__4.57, MEM[symbol: b, index: ivtmp.88_92, offset: 0B]\n",
      "\tvaddps\t%zmm7, %zmm0, %zmm2\t# tmp145, vect__1.52, vect__2.53\n",
      "\tvmovaps\t%zmm2, 256(%r8,%rdx)\t# vect__2.53, MEM[symbol: a, index: ivtmp.88_92, offset: 0B]\n",
      "\tvmovaps\t%zmm0, %zmm2\t# vect__1.52, vect__4.57\n",
      "\tvfmadd132ps\t%zmm4, %zmm3, %zmm0\t# tmp148, tmp138, vect__6.61\n",
      "\tvfmadd132ps\t%zmm6, %zmm5, %zmm2\t# tmp146, tmp147, vect__4.57\n",
      "\tvmovaps\t%zmm0, 256(%rdi,%rdx)\t# vect__6.61, MEM[symbol: c, index: ivtmp.88_92, offset: 0B]\n",
      "\tvmovaps\t%zmm2, 256(%r9,%rdx)\t# vect__4.57, MEM[symbol: b, index: ivtmp.88_92, offset: 0B]\n",
      "\tvmovss\t.LC7(%rip), %xmm3\t#, tmp139\n",
      "\tvxorps\t%xmm2, %xmm2, %xmm2\t# tmp156\n",
      "\tvmovss\t(%r8,%rcx), %xmm1\t# MEM[symbol: a, index: ivtmp.84_87, offset: 0B], a_I_lsm0.66\n",
      "\tvaddss\t(%r9,%rcx), %xmm1, %xmm1\t# MEM[symbol: b, index: ivtmp.84_87, offset: 0B], a_I_lsm0.66, tmp142\n",
      "\tvsubss\t(%rdi,%rcx), %xmm1, %xmm1\t# MEM[symbol: c, index: ivtmp.84_87, offset: 0B], tmp142, tmp128\n",
      "\tvcvtsi2ssl\t%eax, %xmm2, %xmm0\t# i, tmp156, tmp157\n",
      "\tvfmadd132ss\t%xmm3, %xmm1, %xmm0\t# tmp139, tmp128, _14\n",
      "\tvmovss\t%xmm0, (%rsi)\t# _14, MEM[base: _91, offset: 0B]\n",
      "\tvxorps\t%xmm2, %xmm2, %xmm2\t# tmp156\n",
      "\tvmovss\t-800056(%rbp), %xmm1\t# result, result\n",
      "\tvucomiss\t.LC9(%rip), %xmm1\t#, result\n",
      "\tvcvtsi2sdq\t%rax, %xmm2, %xmm2\t# tmp130, tmp156, tmp158\n",
      "\tvdivsd\t.LC8(%rip), %xmm2, %xmm0\t#, tmp131, _42\n",
      "\tvmovsd\t%xmm0, -3200120(%rbp)\t# _42, %sfp\n",
      "\tvmovsd\t-3200120(%rbp), %xmm0\t# %sfp, _42\n"
     ]
    }
   ],
   "source": [
    "!g++ -S autovector.cpp -fverbose-asm\n",
    "!grep mm autovector.s"
   ]
  },
  {
   "cell_type": "code",
   "execution_count": 7,
   "id": "90f05687",
   "metadata": {},
   "outputs": [
    {
     "name": "stdout",
     "output_type": "stream",
     "text": [
      "Time used: 0.202079s, N * noTests=2000000000\n"
     ]
    }
   ],
   "source": [
    "!g++ -o autovector autovector.cpp && ./autovector"
   ]
  },
  {
   "cell_type": "code",
   "execution_count": 9,
   "id": "6321123b",
   "metadata": {},
   "outputs": [
    {
     "name": "stdout",
     "output_type": "stream",
     "text": [
      "Binary file autovector.s matches\n"
     ]
    }
   ],
   "source": [
    "!dpcpp -S autovector.cpp -fverbose-asm\n",
    "!grep mm autovector.s"
   ]
  },
  {
   "cell_type": "code",
   "execution_count": null,
   "id": "3f2597a1",
   "metadata": {},
   "outputs": [],
   "source": [
    "!dpcpp -o autovector autovector.cpp && autovector"
   ]
  },
  {
   "cell_type": "code",
   "execution_count": 13,
   "id": "acafae0e",
   "metadata": {},
   "outputs": [
    {
     "data": {
      "text/html": [
       "<div>\n",
       "<style scoped>\n",
       "    .dataframe tbody tr th:only-of-type {\n",
       "        vertical-align: middle;\n",
       "    }\n",
       "\n",
       "    .dataframe tbody tr th {\n",
       "        vertical-align: top;\n",
       "    }\n",
       "\n",
       "    .dataframe thead th {\n",
       "        text-align: right;\n",
       "    }\n",
       "</style>\n",
       "<table border=\"1\" class=\"dataframe\">\n",
       "  <thead>\n",
       "    <tr style=\"text-align: right;\">\n",
       "      <th></th>\n",
       "      <th>versão</th>\n",
       "      <th>tempo_de_execução_s</th>\n",
       "    </tr>\n",
       "  </thead>\n",
       "  <tbody>\n",
       "    <tr>\n",
       "      <th>0</th>\n",
       "      <td>naive</td>\n",
       "      <td>4.318750</td>\n",
       "    </tr>\n",
       "    <tr>\n",
       "      <th>1</th>\n",
       "      <td>o3</td>\n",
       "      <td>1.090910</td>\n",
       "    </tr>\n",
       "    <tr>\n",
       "      <th>2</th>\n",
       "      <td>unroll</td>\n",
       "      <td>0.208338</td>\n",
       "    </tr>\n",
       "    <tr>\n",
       "      <th>3</th>\n",
       "      <td>avx512f</td>\n",
       "      <td>0.197168</td>\n",
       "    </tr>\n",
       "  </tbody>\n",
       "</table>\n",
       "</div>"
      ],
      "text/plain": [
       "    versão   tempo_de_execução_s\n",
       "0    naive              4.318750\n",
       "1       o3              1.090910\n",
       "2   unroll              0.208338\n",
       "3  avx512f              0.197168"
      ]
     },
     "execution_count": 13,
     "metadata": {},
     "output_type": "execute_result"
    },
    {
     "data": {
      "image/png": "[encoded data removed]",
      "text/plain": [
       "<Figure size 432x288 with 1 Axes>"
      ]
     },
     "metadata": {
      "needs_background": "light"
     },
     "output_type": "display_data"
    }
   ],
   "source": [
    "# Intel(R) Xeon(R) Gold 6128 CPU @ 3.40GHz\n",
    "import pandas as pd\n",
    "import numpy\n",
    "\n",
    "df = pd.read_csv('data.csv')\n",
    "plt = df.plot(kind=\"bar\")\n",
    "df"
   ]
  },
  {
   "cell_type": "markdown",
   "id": "b6725247",
   "metadata": {},
   "source": [
    "## Conceitos básicos\n",
    "\n",
    "### Buffers e accessors\n",
    "```cpp\n",
    "#include <CL/sycl.hpp>\n",
    "#include <array>\n",
    "#include <iostream>\n",
    "#include <string>\n",
    "\n",
    "#define array_size 10000\n",
    "\n",
    "using namespace sycl;\n",
    "\n",
    "int main(int argc, char* argv[]) {\n",
    "    default_selector selector;\n",
    "    try {\n",
    "        queue q(selector);\n",
    "        std::array<int, array_size> a, b, s; \n",
    "        std::cout << \"Running on device: \" << q.get_device().get_info<info::device::name>() << \"\\n\";\n",
    "        {\n",
    "            buffer a_buf(a);\n",
    "            buffer b_buf(b);\n",
    "            buffer s_buf(s);        \n",
    "            for (size_t i = 0; i < array_size; i++) {\n",
    "                a[i] = i;\n",
    "                b[i] = i;\n",
    "            }\n",
    "            range<1> num_items{array_size};\n",
    "            q.submit([&](handler &h) {\n",
    "                accessor aa(a_buf, h, read_only);\n",
    "                accessor ab(b_buf, h, read_only);\n",
    "                accessor as(s_buf, h, write_only, no_init);        \n",
    "                h.parallel_for(num_items, [=](auto i) { as[i] = aa[i] + ab[i]; });\n",
    "            }).wait();\n",
    "        }\n",
    "        int indices[]{0, 1, 2, (array_size - 2), (array_size - 1)};\n",
    "        constexpr size_t indices_size = sizeof(indices) / sizeof(int);\n",
    "        for (int i = 0; i < indices_size; i++) {\n",
    "            int j = indices[i];\n",
    "            if (i == indices_size - 2) \n",
    "                std::cout << \"...\\n\";\n",
    "            std::cout << \"[\" << j << \"]: \" << j << \" + \" << j << \" = \" << s[j] << \"\\n\";\n",
    "        }\n",
    "    } catch (exception const &e) {\n",
    "        std::cout << \"An exception is caught while adding two vectors.\\n\";\n",
    "        std::terminate();\n",
    "    }\n",
    "    std::cout << \"Vector add successfully completed on device.\\n\";\n",
    "    return 0;\n",
    "}\n",
    "```\n",
    "### Unified Shared Memory\n",
    "```cpp\n",
    "#include <CL/sycl.hpp>\n",
    "#include <array>\n",
    "#include <iostream>\n",
    "#include <string>\n",
    "\n",
    "#define array_size 10000\n",
    "\n",
    "using namespace sycl;\n",
    "\n",
    "int main(int argc, char* argv[]) {\n",
    "    default_selector selector;\n",
    "    try {\n",
    "        queue q(selector);\n",
    "        int *a = malloc_shared<int>(array_size, q);\n",
    "        int *b = malloc_shared<int>(array_size, q);\n",
    "        int *s = malloc_shared<int>(array_size, q);\n",
    "        std::cout << \"Running on device: \" << q.get_device().get_info<info::device::name>() << \"\\n\";\n",
    "        {\n",
    "            for (size_t i = 0; i < array_size; i++) {\n",
    "                a[i] = i;\n",
    "                b[i] = i;\n",
    "            }\n",
    "            range<1> num_items{array_size};\n",
    "            q.submit([&](handler &h) {\n",
    "                h.parallel_for(num_items, [=](auto i) { s[i] = a[i] + b[i]; });\n",
    "            }).wait();\n",
    "        }\n",
    "        int indices[]{0, 1, 2, (array_size - 2), (array_size - 1)};\n",
    "        constexpr size_t indices_size = sizeof(indices) / sizeof(int);\n",
    "        for (int i = 0; i < indices_size; i++) {\n",
    "            int j = indices[i];\n",
    "            if (i == indices_size - 2) \n",
    "                std::cout << \"...\\n\";\n",
    "            std::cout << \"[\" << j << \"]: \" << j << \" + \" << j << \" = \" << s[j] << \"\\n\";\n",
    "        }\n",
    "    } catch (exception const &e) {\n",
    "        std::cout << \"An exception is caught while adding two vectors.\\n\";\n",
    "        std::terminate();\n",
    "    }\n",
    "    free(a, q);\n",
    "    free(b, q);\n",
    "    free(s, q);\n",
    "    std::cout << \"Vector add successfully completed on device.\\n\";\n",
    "    return 0;\n",
    "}\n",
    "```"
   ]
  },
  {
   "cell_type": "code",
   "execution_count": 1,
   "id": "5f290fbf",
   "metadata": {},
   "outputs": [
    {
     "name": "stdout",
     "output_type": "stream",
     "text": [
      "14c14,16\n",
      "<         std::array<int, array_size> a, b, s; \n",
      "---\n",
      ">         int *a = malloc_shared<int>(array_size, q);\n",
      ">         int *b = malloc_shared<int>(array_size, q);\n",
      ">         int *s = malloc_shared<int>(array_size, q);\n",
      "17,19d18\n",
      "<             buffer a_buf(a);\n",
      "<             buffer b_buf(b);\n",
      "<             buffer s_buf(s);        \n",
      "26,29c25\n",
      "<                 accessor aa(a_buf, h, read_only);\n",
      "<                 accessor ab(b_buf, h, read_only);\n",
      "<                 accessor as(s_buf, h, write_only, no_init);        \n",
      "<                 h.parallel_for(num_items, [=](auto i) { as[i] = aa[i] + ab[i]; });\n",
      "---\n",
      ">                 h.parallel_for(num_items, [=](auto i) { s[i] = a[i] + b[i]; });\n",
      "43a40,42\n",
      ">     free(a, q);\n",
      ">     free(b, q);\n",
      ">     free(s, q);\n"
     ]
    }
   ],
   "source": [
    "!diff addvecbuf.cpp addvecusm.cpp"
   ]
  },
  {
   "cell_type": "code",
   "execution_count": null,
   "id": "eabc5b55",
   "metadata": {},
   "outputs": [],
   "source": [
    "!dpcpp addvecbuf.cpp -o buf && ./buf\n",
    "!dpcpp addvecusm.cpp -o usm && ./usm"
   ]
  },
  {
   "cell_type": "markdown",
   "id": "2a87135e",
   "metadata": {},
   "source": [
    "## Laboratórios\n",
    "\n",
    "### 1. [Filtro Sobel](lab1/lab1.ipynb)\n",
    "\n",
    "### 2. [Bitonic Sort](lab2/lab2.ipynb)\n",
    "\n",
    "### 3. [Transformada de Hough](lab3/lab3.ipynb)\n",
    "\n",
    "## Referências\n",
    "- https://tech.io/playgrounds/53858/vetorizacao-sse-avx/\n",
    "- https://github.com/menotti/sycl-wscad-2022\n",
    "- https://oneapi.io/"
   ]
  }
 ],
 "metadata": {
  "kernelspec": {
   "display_name": "Python 3 (Intel® oneAPI 2022.3)",
   "language": "python",
   "name": "c009-intel_distribution_of_python_3_oneapi-beta05-python"
  },
  "language_info": {
   "codemirror_mode": {
    "name": "ipython",
    "version": 3
   },
   "file_extension": ".py",
   "mimetype": "text/x-python",
   "name": "python",
   "nbconvert_exporter": "python",
   "pygments_lexer": "ipython3",
   "version": "3.9.12"
  }
 },
 "nbformat": 4,
 "nbformat_minor": 5
}
